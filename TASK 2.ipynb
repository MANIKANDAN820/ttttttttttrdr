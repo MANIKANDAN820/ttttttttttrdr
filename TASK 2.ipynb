{
 "cells": [
  {
   "cell_type": "markdown",
   "id": "0de52032",
   "metadata": {},
   "source": [
    "# TASK 2"
   ]
  },
  {
   "cell_type": "markdown",
   "id": "d742b9fe",
   "metadata": {},
   "source": [
    "# QUESTION-1"
   ]
  },
  {
   "cell_type": "code",
   "execution_count": 1,
   "id": "b8b2f595",
   "metadata": {},
   "outputs": [],
   "source": [
    "x=5"
   ]
  },
  {
   "cell_type": "code",
   "execution_count": 2,
   "id": "82225b96",
   "metadata": {},
   "outputs": [
    {
     "name": "stdout",
     "output_type": "stream",
     "text": [
      "5\n"
     ]
    }
   ],
   "source": [
    "print(x)"
   ]
  },
  {
   "cell_type": "markdown",
   "id": "520d2478",
   "metadata": {},
   "source": [
    "# QUESTION-2"
   ]
  },
  {
   "cell_type": "code",
   "execution_count": 3,
   "id": "1dc81b5d",
   "metadata": {},
   "outputs": [],
   "source": [
    "a=3\n",
    "b=2"
   ]
  },
  {
   "cell_type": "code",
   "execution_count": 4,
   "id": "4673dfaf",
   "metadata": {},
   "outputs": [
    {
     "name": "stdout",
     "output_type": "stream",
     "text": [
      "5\n"
     ]
    }
   ],
   "source": [
    "print(a+b)"
   ]
  },
  {
   "cell_type": "markdown",
   "id": "1641e707",
   "metadata": {},
   "source": [
    "# QUESTION-3"
   ]
  },
  {
   "cell_type": "code",
   "execution_count": 5,
   "id": "6a7db5cc",
   "metadata": {},
   "outputs": [
    {
     "name": "stdout",
     "output_type": "stream",
     "text": [
      "3.14159\n"
     ]
    }
   ],
   "source": [
    "pi=3.14159\n",
    "print(pi)"
   ]
  },
  {
   "cell_type": "markdown",
   "id": "2f170a44",
   "metadata": {},
   "source": [
    "# QUESTION-4"
   ]
  },
  {
   "cell_type": "code",
   "execution_count": 6,
   "id": "f16f559c",
   "metadata": {},
   "outputs": [],
   "source": [
    "radius=5     "
   ]
  },
  {
   "cell_type": "code",
   "execution_count": 7,
   "id": "2a5d7b47",
   "metadata": {},
   "outputs": [
    {
     "name": "stdout",
     "output_type": "stream",
     "text": [
      "78.53975\n"
     ]
    }
   ],
   "source": [
    "print(pi*radius**2)"
   ]
  },
  {
   "cell_type": "markdown",
   "id": "05c4f426",
   "metadata": {},
   "source": [
    "# QUESTION-5"
   ]
  },
  {
   "cell_type": "code",
   "execution_count": 8,
   "id": "61a64756",
   "metadata": {},
   "outputs": [],
   "source": [
    "name=\"MANIKANDAN.D\"      # to insert a string into string or sentence"
   ]
  },
  {
   "cell_type": "code",
   "execution_count": 9,
   "id": "ef5a050a",
   "metadata": {},
   "outputs": [
    {
     "name": "stdout",
     "output_type": "stream",
     "text": [
      "HI, I AM MANIKANDAN.D , I AM A DATA SCIENTIST.\n"
     ]
    }
   ],
   "source": [
    "print(\"HI, I AM\", name, \", I AM A DATA SCIENTIST.\")\n"
   ]
  },
  {
   "cell_type": "markdown",
   "id": "55b09028",
   "metadata": {},
   "source": [
    "# QUESTION-6"
   ]
  },
  {
   "cell_type": "code",
   "execution_count": 10,
   "id": "d57e6f68",
   "metadata": {},
   "outputs": [],
   "source": [
    "age=23       # to insert an int into a string"
   ]
  },
  {
   "cell_type": "code",
   "execution_count": 11,
   "id": "613c9b24",
   "metadata": {},
   "outputs": [
    {
     "name": "stdout",
     "output_type": "stream",
     "text": [
      "i am  23 year's old.\n"
     ]
    }
   ],
   "source": [
    "print(\"i am \",age,\"year's old.\")"
   ]
  },
  {
   "cell_type": "markdown",
   "id": "ee31ab49",
   "metadata": {},
   "source": [
    "# QUESTION-7"
   ]
  },
  {
   "cell_type": "code",
   "execution_count": 12,
   "id": "ac1939dd",
   "metadata": {},
   "outputs": [],
   "source": [
    "hight=1.75    # to insert an float into the string"
   ]
  },
  {
   "cell_type": "code",
   "execution_count": 13,
   "id": "52f2a816",
   "metadata": {},
   "outputs": [
    {
     "name": "stdout",
     "output_type": "stream",
     "text": [
      "i am  1.75 meters tall.\n"
     ]
    }
   ],
   "source": [
    "print(\"i am \",hight,\"meters tall.\")"
   ]
  },
  {
   "cell_type": "markdown",
   "id": "9b3bac7a",
   "metadata": {},
   "source": [
    "# QUESTION-8"
   ]
  },
  {
   "cell_type": "code",
   "execution_count": 14,
   "id": "49dda293",
   "metadata": {},
   "outputs": [],
   "source": [
    "sentence=\"what a beautiful world\" # to get first letter of the sring"
   ]
  },
  {
   "cell_type": "code",
   "execution_count": 15,
   "id": "66a0a671",
   "metadata": {},
   "outputs": [
    {
     "name": "stdout",
     "output_type": "stream",
     "text": [
      "w\n"
     ]
    }
   ],
   "source": [
    "print(sentence[0:1])"
   ]
  },
  {
   "cell_type": "markdown",
   "id": "d4dc8efd",
   "metadata": {},
   "source": [
    "# QUESTION-9"
   ]
  },
  {
   "cell_type": "code",
   "execution_count": 16,
   "id": "bf42fde4",
   "metadata": {},
   "outputs": [
    {
     "data": {
      "text/plain": [
       "'what a beautiful world'"
      ]
     },
     "execution_count": 16,
     "metadata": {},
     "output_type": "execute_result"
    }
   ],
   "source": [
    "sentence     # to get last letter of the string"
   ]
  },
  {
   "cell_type": "code",
   "execution_count": 17,
   "id": "90c10088",
   "metadata": {},
   "outputs": [
    {
     "name": "stdout",
     "output_type": "stream",
     "text": [
      "d\n"
     ]
    }
   ],
   "source": [
    "print(sentence[-1:])"
   ]
  },
  {
   "cell_type": "markdown",
   "id": "63daf403",
   "metadata": {},
   "source": [
    "# QUESTION-10"
   ]
  },
  {
   "cell_type": "code",
   "execution_count": 18,
   "id": "3628b73f",
   "metadata": {},
   "outputs": [
    {
     "data": {
      "text/plain": [
       "'what a beautiful world'"
      ]
     },
     "execution_count": 18,
     "metadata": {},
     "output_type": "execute_result"
    }
   ],
   "source": [
    "sentence     # to find the length of the string"
   ]
  },
  {
   "cell_type": "code",
   "execution_count": 19,
   "id": "c557e76b",
   "metadata": {},
   "outputs": [
    {
     "name": "stdout",
     "output_type": "stream",
     "text": [
      "22\n"
     ]
    }
   ],
   "source": [
    "print(len(sentence))"
   ]
  }
 ],
 "metadata": {
  "kernelspec": {
   "display_name": "Python 3 (ipykernel)",
   "language": "python",
   "name": "python3"
  },
  "language_info": {
   "codemirror_mode": {
    "name": "ipython",
    "version": 3
   },
   "file_extension": ".py",
   "mimetype": "text/x-python",
   "name": "python",
   "nbconvert_exporter": "python",
   "pygments_lexer": "ipython3",
   "version": "3.10.8"
  }
 },
 "nbformat": 4,
 "nbformat_minor": 5
}
