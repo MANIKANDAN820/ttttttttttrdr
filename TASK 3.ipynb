{
 "cells": [
  {
   "cell_type": "markdown",
   "id": "ec7eef66",
   "metadata": {},
   "source": [
    "# QUESTION 1"
   ]
  },
  {
   "cell_type": "code",
   "execution_count": 1,
   "id": "55dd2d20",
   "metadata": {},
   "outputs": [],
   "source": [
    "my_tuple=(1,2,3)                       #Create a tuple my_tuple with the values 1, 2, and 3. Print the tuple"
   ]
  },
  {
   "cell_type": "code",
   "execution_count": 2,
   "id": "b2e13ab8",
   "metadata": {},
   "outputs": [
    {
     "name": "stdout",
     "output_type": "stream",
     "text": [
      "(1, 2, 3)\n"
     ]
    }
   ],
   "source": [
    "print(my_tuple)"
   ]
  },
  {
   "cell_type": "markdown",
   "id": "1cd43bd8",
   "metadata": {},
   "source": [
    "# QUESTION 2"
   ]
  },
  {
   "cell_type": "code",
   "execution_count": 3,
   "id": "b4ab6d3d",
   "metadata": {},
   "outputs": [],
   "source": [
    "my_set={1,2,3}                         #Create a set my_set with the values 1, 2, and 3. Print the set"
   ]
  },
  {
   "cell_type": "code",
   "execution_count": 4,
   "id": "e5e9aea0",
   "metadata": {},
   "outputs": [
    {
     "name": "stdout",
     "output_type": "stream",
     "text": [
      "{1, 2, 3}\n"
     ]
    }
   ],
   "source": [
    "print(my_set)"
   ]
  },
  {
   "cell_type": "markdown",
   "id": "f212b5d8",
   "metadata": {},
   "source": [
    "# QUESTION 3"
   ]
  },
  {
   "cell_type": "code",
   "execution_count": 5,
   "id": "f649f0e0",
   "metadata": {},
   "outputs": [],
   "source": [
    "my_dict={'apple':1,'banana':2,'cherry':3}   \n",
    "\n",
    "\n",
    "\n",
    "# Create a dictionary my_dict with keys \"apple\", \"banana\", and \"cherry\" and values 1, 2, and 3. Print the dictionary."
   ]
  },
  {
   "cell_type": "code",
   "execution_count": 6,
   "id": "cc3f4713",
   "metadata": {},
   "outputs": [
    {
     "name": "stdout",
     "output_type": "stream",
     "text": [
      "{'apple': 1, 'banana': 2, 'cherry': 3}\n"
     ]
    }
   ],
   "source": [
    "print(my_dict)"
   ]
  },
  {
   "cell_type": "markdown",
   "id": "76e1431a",
   "metadata": {},
   "source": [
    "# QUESTION 4"
   ]
  },
  {
   "cell_type": "code",
   "execution_count": 7,
   "id": "9bb3a3f6",
   "metadata": {},
   "outputs": [
    {
     "name": "stdout",
     "output_type": "stream",
     "text": [
      "1\n",
      "2\n",
      "3\n"
     ]
    }
   ],
   "source": [
    "for i in my_tuple:                 #Use a for loop to print the values in my_tuple one by one.\n",
    "    print(i)"
   ]
  },
  {
   "cell_type": "markdown",
   "id": "89f3e66f",
   "metadata": {},
   "source": [
    "# QUESTION 5"
   ]
  },
  {
   "cell_type": "code",
   "execution_count": 8,
   "id": "a5fe642b",
   "metadata": {},
   "outputs": [
    {
     "name": "stdout",
     "output_type": "stream",
     "text": [
      "1\n",
      "2\n",
      "3\n"
     ]
    }
   ],
   "source": [
    "for i in my_set:                      #Use a for loop to print the values in my_set one by one.\n",
    "    print(i)"
   ]
  },
  {
   "cell_type": "markdown",
   "id": "a7cdef66",
   "metadata": {},
   "source": [
    "# QUESTION 6"
   ]
  },
  {
   "cell_type": "code",
   "execution_count": 9,
   "id": "debbe668",
   "metadata": {},
   "outputs": [
    {
     "name": "stdout",
     "output_type": "stream",
     "text": [
      "apple\n",
      "banana\n",
      "cherry\n"
     ]
    }
   ],
   "source": [
    "for i in my_dict:                       #Use a for loop to print the keys and values in my_dict one by one\n",
    "    print(i)"
   ]
  },
  {
   "cell_type": "markdown",
   "id": "5749d097",
   "metadata": {},
   "source": [
    "# QUESTION 7"
   ]
  },
  {
   "cell_type": "code",
   "execution_count": 10,
   "id": "badee8cc",
   "metadata": {},
   "outputs": [],
   "source": [
    "x=1                                     #Use a while loop to print the numbers from 1 to 10."
   ]
  },
  {
   "cell_type": "code",
   "execution_count": 11,
   "id": "d01b46ef",
   "metadata": {},
   "outputs": [
    {
     "name": "stdout",
     "output_type": "stream",
     "text": [
      "1\n",
      "2\n",
      "3\n",
      "4\n",
      "5\n",
      "6\n",
      "7\n",
      "8\n",
      "9\n",
      "10\n"
     ]
    }
   ],
   "source": [
    "while x<11:\n",
    "    print(x)\n",
    "    x=x+1\n"
   ]
  },
  {
   "cell_type": "markdown",
   "id": "836b0677",
   "metadata": {},
   "source": [
    "# QUESTION 8"
   ]
  },
  {
   "cell_type": "code",
   "execution_count": 12,
   "id": "a14fdffc",
   "metadata": {},
   "outputs": [],
   "source": [
    "y=0                                      #Use a while loop to print the even numbers from 2 to 10."
   ]
  },
  {
   "cell_type": "code",
   "execution_count": 13,
   "id": "9c549123",
   "metadata": {},
   "outputs": [
    {
     "name": "stdout",
     "output_type": "stream",
     "text": [
      "2\n",
      "4\n",
      "6\n",
      "8\n",
      "10\n"
     ]
    }
   ],
   "source": [
    "while y<10:\n",
    "    y=y+2\n",
    "    print(y)"
   ]
  },
  {
   "cell_type": "markdown",
   "id": "b920822f",
   "metadata": {},
   "source": [
    "# QUESTION 9"
   ]
  },
  {
   "cell_type": "code",
   "execution_count": 14,
   "id": "eb29cd88",
   "metadata": {},
   "outputs": [],
   "source": [
    "i=1                             #Use a while loop to print the squares of the numbers from 1 to 5."
   ]
  },
  {
   "cell_type": "code",
   "execution_count": 15,
   "id": "00575970",
   "metadata": {},
   "outputs": [
    {
     "name": "stdout",
     "output_type": "stream",
     "text": [
      "1\n",
      "4\n",
      "9\n",
      "16\n",
      "25\n"
     ]
    }
   ],
   "source": [
    "while i in range(1,6):\n",
    "    print(i**2)\n",
    "    i=i+1\n",
    "    "
   ]
  },
  {
   "cell_type": "markdown",
   "id": "11d04ca9",
   "metadata": {},
   "source": [
    "# QUESTION 10"
   ]
  },
  {
   "cell_type": "code",
   "execution_count": 16,
   "id": "5d993287",
   "metadata": {},
   "outputs": [
    {
     "name": "stdout",
     "output_type": "stream",
     "text": [
      "6\n",
      "6\n",
      "6\n"
     ]
    }
   ],
   "source": [
    "for x in my_tuple:                      #Use a for loop to print the sum of the numbers in my_tuple\n",
    "    print(sum(my_tuple))                  "
   ]
  }
 ],
 "metadata": {
  "kernelspec": {
   "display_name": "Python 3 (ipykernel)",
   "language": "python",
   "name": "python3"
  },
  "language_info": {
   "codemirror_mode": {
    "name": "ipython",
    "version": 3
   },
   "file_extension": ".py",
   "mimetype": "text/x-python",
   "name": "python",
   "nbconvert_exporter": "python",
   "pygments_lexer": "ipython3",
   "version": "3.10.8"
  }
 },
 "nbformat": 4,
 "nbformat_minor": 5
}
